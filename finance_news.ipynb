{
 "cells": [
  {
   "cell_type": "code",
   "execution_count": 1,
   "metadata": {},
   "outputs": [],
   "source": [
    "\n",
    "cnn_url = \"https://money.cnn.com/data/markets/\"\n",
    "alpha_url = \"https://seekingalpha.com/market-news\"  \n",
    "bloomberg_url = \"https://www.bloomberg.com/markets\"\n",
    "forbes_url = \"https://www.forbes.com/money/#76336448c19a\"\n",
    "dealbook_url = \"https://www.nytimes.com/section/business/dealbook\"\n",
    "yahoo_url = \"https://finance.yahoo.com/\"\n",
    "wsj_url = \"https://www.wsj.com/news/markets\""
   ]
  },
  {
   "cell_type": "code",
   "execution_count": 71,
   "metadata": {},
   "outputs": [],
   "source": [
    "# Importing dependencies\n",
    "# ----------------------------------------------------------------------------------------------------------------\n",
    "# importing 'requests' library for sending HTTP requests\n",
    "import requests\n",
    "\n",
    "# importing 'BeautifulSoup' to parse and scrape the necessary content from the websites\n",
    "from bs4 import BeautifulSoup as bs\n",
    "\n",
    "# importing Browser class from 'Splinter' open source tool for automating browser actions, \n",
    "# such as visiting URLs and interacting with their items\n",
    "from splinter import Browser\n",
    "\n",
    "# In order to use Google Chrome with Splinter,\n",
    "# Setting up Chrome WebDriver - Chrome WebDriver is provided by Selenium2. To use it, => pip install selenium\n",
    "# Download \"ChromeDriver server for win\" extract the zip file and add .exe file to the path.\n",
    "# Create Browser instance\n",
    "executable_path = {'executable_path': 'chromedriver.exe'}\n",
    "browser = Browser('chrome', **executable_path, headless=False)\n",
    "\n",
    "# Importing 'Pandas' - python's data analysis library can be used with BeautifulSoup for web scraping. \n",
    "# BeautifulSoup can pass the findings to pandas.\n",
    "# Pandas can use its read_html function to read the HTML table data into a dataframe, which can be converted to JSON format.\n",
    "import pandas as pd\n",
    "\n",
    "\n",
    "# Importing "
   ]
  },
  {
   "cell_type": "code",
   "execution_count": null,
   "metadata": {},
   "outputs": [],
   "source": []
  },
  {
   "cell_type": "markdown",
   "metadata": {},
   "source": [
    "## The Street \n",
    "Scraping 'thestreet.com' and collecting the latest headlines and real-time stories"
   ]
  },
  {
   "cell_type": "code",
   "execution_count": 61,
   "metadata": {},
   "outputs": [],
   "source": [
    "# URL of The Street Website\n",
    "theStreet_url = \"https://www.thestreet.com/\"\n",
    "\n",
    "# Navigating with the browser.visit method of Splinter\n",
    "browser.visit(theStreet_url)\n",
    "\n",
    "# Create BeautifulSoup object; parse with 'html.parser'\n",
    "html_theStreet = browser.html\n",
    "soup = bs(html_theStreet, 'html.parser')"
   ]
  },
  {
   "cell_type": "code",
   "execution_count": 62,
   "metadata": {},
   "outputs": [],
   "source": [
    "headline_results = soup.find_all(\"div\", class_=\"media-body news-list__body columnRight-TSC\")"
   ]
  },
  {
   "cell_type": "code",
   "execution_count": 63,
   "metadata": {},
   "outputs": [],
   "source": [
    "latest_headlines = []\n",
    "\n",
    "for result in headline_results:\n",
    "    headline = result.find(\"a\").find(\"h3\", class_=\"news-list__headline news-list__headline-TSC\").text.strip()\n",
    "        \n",
    "    link = result.find(\"a\")[\"href\"]\n",
    "    headline_url = theStreet_url + link\n",
    "    \n",
    "    dict = {'headline':headline, 'headline_url':headline_url}\n",
    "    latest_headlines.append(dict)"
   ]
  },
  {
   "cell_type": "code",
   "execution_count": 64,
   "metadata": {},
   "outputs": [],
   "source": [
    "# latest_headlines"
   ]
  },
  {
   "cell_type": "code",
   "execution_count": 65,
   "metadata": {},
   "outputs": [],
   "source": [
    "real_time_stories_results = soup.find_all(\"div\",class_=\"columnRight columnRight-TSC\")"
   ]
  },
  {
   "cell_type": "code",
   "execution_count": 66,
   "metadata": {},
   "outputs": [],
   "source": [
    "real_time_stories = []\n",
    "for result in real_time_stories_results:\n",
    "    story = result.find(\"a\").find(\"h3\", class_=\"news-list__headline news-list__headline-TSC\").text\n",
    "    \n",
    "    link = result.find(\"a\")[\"href\"]\n",
    "    story_url = theStreet_url + link\n",
    "    \n",
    "    dict = {'story':story, 'story_url':story_url}\n",
    "    real_time_stories.append(dict)"
   ]
  },
  {
   "cell_type": "code",
   "execution_count": 67,
   "metadata": {},
   "outputs": [],
   "source": [
    "#real_time_stories"
   ]
  },
  {
   "cell_type": "markdown",
   "metadata": {},
   "source": [
    "## CNN Business\n",
    "Scraping 'https://money.cnn.com/data/markets/' and collecting the market stats and top investing stories"
   ]
  },
  {
   "cell_type": "code",
   "execution_count": 80,
   "metadata": {},
   "outputs": [],
   "source": [
    "# URL of The CNN Website\n",
    "cnn_url = \"https://money.cnn.com/data/markets/\"\n",
    "\n",
    "# Navigating with the browser.visit method of Splinter\n",
    "browser.visit(cnn_url)\n",
    "\n",
    "# Create BeautifulSoup object; parse with 'html.parser'\n",
    "html_cnn = browser.html\n",
    "soup = bs(html_cnn, 'html.parser')"
   ]
  },
  {
   "cell_type": "code",
   "execution_count": 81,
   "metadata": {},
   "outputs": [
    {
     "name": "stdout",
     "output_type": "stream",
     "text": [
      "[<a class=\"summary-hed\" href=\"https://www.cnn.com/2019/10/22/investing/td-ameritrade-ceo-tim-hockey-earnings/index.html\">\n",
      "<figure class=\"thumb-image pull-left\"><img alt=\"\" border=\"0\" height=\"82\" src=\"https://cdn.cnn.com/cnnnext/dam/assets/191022104241-ameritrade-ceo-tim-hockey-file-assign.jpg\" width=\"124\"/>\n",
      "</figure>\n",
      "<figcaption class=\"thumb-caption\">TD Ameritrade CEO: We're ready for battle in the zero commission wars</figcaption>\n",
      "</a>, <a class=\"summary-hed\" href=\"https://www.cnn.com/2019/10/23/investing/caterpillar-earnings-trade-war-economy/index.html\">\n",
      "<figure class=\"thumb-image pull-left\"><img alt=\"\" border=\"0\" height=\"82\" src=\"https://cdn.cnn.com/cnnnext/dam/assets/191023064603-01-caterpillar-equipment-file-assign.jpg\" width=\"124\"/>\n",
      "</figure>\n",
      "<figcaption class=\"thumb-caption\">The trade war is stinging Caterpillar, and its outlook is dimming</figcaption>\n",
      "</a>, <a class=\"summary-hed\" href=\"https://www.cnn.com/2019/10/23/investing/premarket-stocks-trading/index.html\">\n",
      "<figure class=\"thumb-image pull-left\"><img alt=\"\" border=\"0\" height=\"82\" src=\"https://cdn.cnn.com/cnnnext/dam/assets/191022162126-01-nike-ceo-mark-parker-file-assign.jpg\" width=\"124\"/>\n",
      "</figure>\n",
      "<figcaption class=\"thumb-caption\">Investors react to a flood of CEO departures</figcaption>\n",
      "</a>, <a class=\"summary-hed\" href=\"https://www.cnn.com/2019/10/22/investing/asian-market-latest/index.html\">\n",
      "<figure class=\"thumb-image pull-left\"><img alt=\"\" border=\"0\" height=\"82\" src=\"https://cdn.cnn.com/cnnnext/dam/assets/191022213521-02-wework-softbank-bailout-assign.jpg\" width=\"124\"/>\n",
      "</figure>\n",
      "<figcaption class=\"thumb-caption\">SoftBank shares slide after massive WeWork bailout</figcaption>\n",
      "</a>, <a class=\"summary-hed\" href=\"https://www.cnn.com/2019/10/22/investing/mcdonalds-earnings/index.html\">\n",
      "<figure class=\"thumb-image pull-left\"><img alt=\"\" border=\"0\" height=\"82\" src=\"https://cdn.cnn.com/cnnnext/dam/assets/191022085010-mcdonalds-restaurant-0722-restricted-assign.jpg\" width=\"124\"/>\n",
      "</figure>\n",
      "<figcaption class=\"thumb-caption\">McDonald's shares fall 5% as competition heats up</figcaption>\n",
      "</a>, <a class=\"summary summary-hed\" href=\"https://www.bankrate.com/landing/savings/rates-c/?pid=cnn_savbrm_rtlrtsc_p-na_des_mny_aa_allcset1myfin&amp;ttcid=98f8be7899\" target=\"_blank\">Fed Meeting Brought a Rise in Savings Rates</a>, <a class=\"summary summary-hed\" href=\"https://www.bankrate.com/landing/mortgage-rates/?pid=cnn_mtgbrm_lrtlmtgr_p-na_des_mny_aa_allcset1myfin&amp;ttcid=b8bc45a26e\" target=\"_blank\">Mortgage Rates Remain Low -- Lock In Now</a>, <a class=\"summary summary-hed\" href=\"https://www.bankrate.com/landing/cd-rates-e/?pid=cnn_cdbrm_rtlrtse_p-na_des_mny_aa_allcset1myfin&amp;ttcid=3e92148e03\" target=\"_blank\">How Does The Fed's Meeting Affect CD Rates?</a>, <a class=\"summary summary-hed last\" href=\"https://www.bankrate.com/landing/cd-rates-e/?pid=cnn_cdbrm_rtlrtse_p-na_des_mny_aa_allcset2myfin&amp;ttcid=3e92148e03\" target=\"_blank\">The Time to Open a CD is Now, Experts Say</a>, <a class=\"summary summary-hed\" href=\"https://ck.lendingtree.com/?a=342&amp;c=2658&amp;p=r&amp;s1=moneymobile&amp;mtaid=626CF&amp;ctype=moneymobile&amp;cmethod=refiform&amp;ccreative=refiratesat3018doyouqualify_none&amp;placement_name=moneymobile&amp;ad_headline=refiratesat3018doyouqualify&amp;ad_image=none\" target=\"_blank\">Now's the time to refi. Rates as low as 3.04% APR (15yr)!</a>, <a class=\"summary summary-hed\" href=\"https://ck.lendingtree.com/?a=342&amp;c=2658&amp;p=r&amp;s1=moneyother&amp;mtaid=626CF&amp;ctype=moneyother&amp;cmethod=refiform&amp;ccreative=feddroppedratesact_fallmthouse&amp;placement_name=moneyother&amp;ad_headline=feddroppedratesact&amp;ad_image=fallmthouse\" target=\"_blank\">Fed just dropped mortgage rates. Act now!</a>, <a class=\"summary summary-hed\" href=\"https://ck.lendingtree.com/?a=342&amp;c=1556&amp;p=r&amp;s1=moneymobile&amp;mtaid=626CF&amp;ctype=moneymobile&amp;cmethod=15yrpayoff&amp;ccreative=howtopayoffyourhouseasap_none&amp;placement_name=moneymobile&amp;ad_headline=howtopayoffyourhouseasap&amp;ad_image=none\" target=\"_blank\">Refi rates at 3.04% APR (15 yr). Do you qualify?</a>, <a class=\"summary summary-hed last\" href=\"https://ck.lendingtree.com/?a=342&amp;c=1556&amp;p=r&amp;s1=moneyother&amp;mtaid=626CF&amp;ctype=moneyother&amp;cmethod=15yrpayoff&amp;ccreative=expertsurge2_colorfultrees&amp;placement_name=moneyother&amp;ad_headline=expertsurge2&amp;ad_image=colorfultrees\" target=\"_blank\">Experts urge Americans to refinance in 2019</a>, <a class=\"summary summary-hed\" href=\"https://www.myfinance.com/cnn-biz-markets-myfi-battle/\" target=\"_blank\">Two Savings Accounts That Pay 19x the Interest</a>, <a class=\"summary summary-hed\" href=\"http://www.myfinance.com/cnn-business-markets-na-massive/\" target=\"_blank\">Massive Bonus of $500 on This New Credit Card</a>, <a class=\"summary summary-hed\" href=\"https://www.myfinance.com/cnn-business-na-markets-transfer/\" target=\"_blank\">Transferring Your Balance to a 21-Month 0% APR is Ingenious</a>, <a class=\"summary summary-hed last\" href=\"https://www.myfinance.com/cnn-business-na-markets-outstanding/\" target=\"_blank\">Credit Cards with Outstanding Rewards for Those with Excellent Credit</a>, <a class=\"summary summary-hed\" href=\"https://www.myfinance.com/cnn-business-na-markets-br-insane/\" target=\"_blank\">An Incredible Credit Card Charging 0% Interest Until 2020</a>, <a class=\"summary summary-hed\" href=\"https://www.myfinance.com/cnn-business-markets-na-br-jaw/\" target=\"_blank\">Jaw-Dropping Bonus of $500 on This New Credit Card</a>, <a class=\"summary summary-hed\" href=\"https://www.bankrate.com/landing/savings/rates-c/?pid=cnn_savbrm_rtlrtsc_p-na_des_mny_aa_allcset1myfin&amp;ttcid=7f6b1ffe9fe29d28c93e\" target=\"_blank\">Fed Meeting Brought a Rise in Savings Rates</a>, <a class=\"summary summary-hed last\" href=\"https://www.bankrate.com/landing/mortgage-rates/?pid=cnn_mtgbrm_lrtlmtgr_p-na_des_mny_aa_allcset1myfin&amp;ttcid=005fd7e6cc7c02ff211b\" target=\"_blank\">Compare Today's Top Mortgage Rates in Your Area -- Lock in Now </a>, <a class=\"summary summary-hed\" href=\"https://smartasset.com/retirement/find-a-financial-planner?utm_source=cnn&amp;utm_medium=cpc&amp;utm_campaign=cnn__falc_mkt_hire_pro_compare_3\" target=\"_blank\">Hire a pro: Compare 3 financial advisors in your area</a>, <a class=\"summary summary-hed\" href=\"https://smartasset.com/checking-account/compare-savings-accounts?utm_source=cnn&amp;utm_medium=cpc&amp;utm_campaign=cnn__savings_hom_savingsapy\" target=\"_blank\">These savings accounts earn more than 9x the national average</a>, <a class=\"summary summary-hed\" href=\"https://smartasset.com/retirement/find-a-financial-planner?utm_source=cnn&amp;utm_medium=cpc&amp;utm_campaign=cnn__falc_mkt_these_are_your_3\" target=\"_blank\">These are your 3 financial advisors near you</a>, <a class=\"summary summary-hed last\" href=\"https://smartasset.com/checking-account/compare-savings-accounts?utm_source=cnn&amp;utm_medium=cpc&amp;utm_campaign=cnn__savings_hom_bigbanks_1\" target=\"_blank\">Big banks don't want you to know about these high-APY accounts...</a>, <a class=\"summary summary-hed\" href=\"https://www.myfinance.com/cnn-biz-markets-na-insane/\" target=\"_blank\">An Insane Credit Card Charging 0% Interest Until 2020</a>, <a class=\"summary summary-hed\" href=\"https://www.myfinance.com/cnn-business-na-markets-earn500/\" target=\"_blank\">New: Earn a $500 Bonus with This Card, Plus...</a>, <a class=\"summary summary-hed\" href=\"https://www.myfinance.com/cnn-markets-na-bin-no-interest2020/\" target=\"_blank\">Pay No Credit Card Interest Until 2020</a>, <a class=\"summary summary-hed last\" href=\"https://www.myfinance.com/cnn-business-na-markets-transferring-na-bin/\" target=\"_blank\">Transferring Your Balance to a 21-Month 0% APR is Ingenious</a>]\n"
     ]
    }
   ],
   "source": [
    "test = soup.find_all(\"a\", class_=\"summary-hed\")\n",
    "print(test)"
   ]
  },
  {
   "cell_type": "code",
   "execution_count": null,
   "metadata": {},
   "outputs": [],
   "source": []
  }
 ],
 "metadata": {
  "kernelspec": {
   "display_name": "Python 3",
   "language": "python",
   "name": "python3"
  },
  "language_info": {
   "codemirror_mode": {
    "name": "ipython",
    "version": 3
   },
   "file_extension": ".py",
   "mimetype": "text/x-python",
   "name": "python",
   "nbconvert_exporter": "python",
   "pygments_lexer": "ipython3",
   "version": "3.6.5"
  }
 },
 "nbformat": 4,
 "nbformat_minor": 2
}
